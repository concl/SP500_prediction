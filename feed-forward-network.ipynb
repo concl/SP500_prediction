{
 "cells": [
  {
   "cell_type": "code",
   "execution_count": null,
   "metadata": {
    "_cell_guid": "b1076dfc-b9ad-4769-8c92-a6c4dae69d19",
    "_uuid": "8f2839f25d086af736a60e9eeb907d3b93b6e0e5",
    "execution": {
     "iopub.execute_input": "2025-10-30T04:48:24.700198Z",
     "iopub.status.busy": "2025-10-30T04:48:24.699955Z",
     "iopub.status.idle": "2025-10-30T04:48:35.488943Z",
     "shell.execute_reply": "2025-10-30T04:48:35.488152Z",
     "shell.execute_reply.started": "2025-10-30T04:48:24.700175Z"
    },
    "trusted": true
   },
   "outputs": [],
   "source": [
    "from dataclasses import dataclass\n",
    "\n",
    "import os\n",
    "\n",
    "import math\n",
    "\n",
    "import polars as pl\n",
    "import pandas as pd\n",
    "from sklearn.model_selection import train_test_split\n",
    "import numpy as np\n",
    "import matplotlib.pyplot as plt\n",
    "import kaggle_evaluation.default_inference_server\n",
    "\n",
    "import torch\n",
    "import torch.nn as nn # defining our neural network\n",
    "import torch.optim as optim # training our neural network\n",
    "from torch.utils.data import DataLoader, Dataset # loading data in batches"
   ]
  },
  {
   "cell_type": "markdown",
   "metadata": {},
   "source": [
    "## Config"
   ]
  },
  {
   "cell_type": "code",
   "execution_count": null,
   "metadata": {
    "execution": {
     "iopub.execute_input": "2025-10-30T04:52:20.479460Z",
     "iopub.status.busy": "2025-10-30T04:52:20.479117Z",
     "iopub.status.idle": "2025-10-30T04:52:20.485219Z",
     "shell.execute_reply": "2025-10-30T04:52:20.484241Z",
     "shell.execute_reply.started": "2025-10-30T04:52:20.479442Z"
    },
    "trusted": true
   },
   "outputs": [],
   "source": [
    "@dataclass\n",
    "class Config:\n",
    "\n",
    "    # FFN learning rate\n",
    "    learning_rate = 5e-4\n",
    "    momentum = 0.95\n",
    "\n",
    "    train_path = \"/kaggle/input/hull-tactical-market-prediction/train.csv\"\n",
    "    test_path = \"/kaggle/input/hull-tactical-market-prediction/test.csv\"\n",
    "\n",
    "    target_column = \"market_forward_excess_returns\"\n",
    "\n",
    "    signal_multiplier: float = 16.0\n",
    "    min_signal : float = 0.0 \n",
    "    max_signal : float = 2.0\n",
    "    "
   ]
  },
  {
   "cell_type": "markdown",
   "metadata": {},
   "source": [
    "## Loading and Processing Data"
   ]
  },
  {
   "cell_type": "code",
   "execution_count": null,
   "metadata": {
    "execution": {
     "iopub.execute_input": "2025-10-30T04:48:35.496724Z",
     "iopub.status.busy": "2025-10-30T04:48:35.496503Z",
     "iopub.status.idle": "2025-10-30T04:48:35.802147Z",
     "shell.execute_reply": "2025-10-30T04:48:35.800387Z",
     "shell.execute_reply.started": "2025-10-30T04:48:35.496704Z"
    },
    "trusted": true
   },
   "outputs": [],
   "source": [
    "\n",
    "# Load data\n",
    "train = pd.read_csv(\"/kaggle/input/hull-tactical-market-prediction/train.csv\")\n",
    "test = pd.read_csv(\"/kaggle/input/hull-tactical-market-prediction/test.csv\")\n",
    "\n",
    "# Columns to keep\n",
    "test_cols = [\"M1\", \"E1\", \"I1\", \"P1\", \"V1\", \"S1\", \"D1\"]\n",
    "train_cols = [\"forward_returns\", \"risk_free_rate\", \"market_forward_excess_returns\"]\n",
    "base_col = [\"date_id\"]\n",
    "\n",
    "# Apply filtering\n",
    "train_filtered = train[base_col + test_cols + train_cols]\n",
    "test_filtered = test[base_col + test_cols]\n",
    "\n",
    "window = 50 # number of days in each normalization window\n",
    "\n",
    "# rolling_min = train_filtered[\"market_forward_excess_returns\"].rolling(window).min()\n",
    "# rolling_max = train_filtered[\"market_forward_excess_returns\"].rolling(window).max()\n",
    "\n",
    "# train_filtered[\"target_market_norm\"] = (\n",
    "#     (train_filtered[\"forward_returns\"] - rolling_min) / (rolling_max - rolling_min)\n",
    "# )\n",
    "# train_filtered[\"target_market_norm\"].bfill(inplace=True)\n",
    "\n",
    "# remove duplicate colums\n",
    "train_filtered = train_filtered.loc[:, ~train_filtered.columns.duplicated()]\n",
    "test_filtered = test_filtered.loc[:, ~test_filtered.columns.duplicated()]\n",
    "\n",
    "print(f\"Number of rows in train: {len(train_filtered)}\")\n",
    "print(f\"Number of rows in test: {len(test_filtered)}\")\n"
   ]
  },
  {
   "cell_type": "code",
   "execution_count": null,
   "metadata": {
    "execution": {
     "iopub.execute_input": "2025-10-30T04:48:35.803391Z",
     "iopub.status.busy": "2025-10-30T04:48:35.803137Z",
     "iopub.status.idle": "2025-10-30T04:48:35.815837Z",
     "shell.execute_reply": "2025-10-30T04:48:35.814760Z",
     "shell.execute_reply.started": "2025-10-30T04:48:35.803361Z"
    },
    "trusted": true
   },
   "outputs": [],
   "source": [
    "# Count number of rows with at least one NaN\n",
    "num_nan_train = train_filtered.isna().any(axis=1).sum()\n",
    "num_nan_test = test_filtered.isna().any(axis=1).sum()\n",
    "\n",
    "print(f\"Number of rows with NaN in train: {num_nan_train}\")\n",
    "print(f\"Number of rows with NaN in test: {num_nan_test}\")\n",
    "\n",
    "X = train_filtered[test_cols]  # features\n",
    "y = train_filtered[Config.target_column]  # target\n",
    "\n",
    "mask = X.isna().sum(axis=1) == 0\n",
    "X = X[mask]\n",
    "y = y[mask]"
   ]
  },
  {
   "cell_type": "code",
   "execution_count": null,
   "metadata": {
    "execution": {
     "iopub.execute_input": "2025-10-30T04:48:35.817329Z",
     "iopub.status.busy": "2025-10-30T04:48:35.816977Z",
     "iopub.status.idle": "2025-10-30T04:48:35.831413Z",
     "shell.execute_reply": "2025-10-30T04:48:35.830523Z",
     "shell.execute_reply.started": "2025-10-30T04:48:35.817297Z"
    },
    "trusted": true
   },
   "outputs": [],
   "source": [
    "X.shape, y.shape"
   ]
  },
  {
   "cell_type": "code",
   "execution_count": null,
   "metadata": {
    "execution": {
     "iopub.execute_input": "2025-10-30T04:48:35.832731Z",
     "iopub.status.busy": "2025-10-30T04:48:35.832410Z",
     "iopub.status.idle": "2025-10-30T04:48:35.868610Z",
     "shell.execute_reply": "2025-10-30T04:48:35.867651Z",
     "shell.execute_reply.started": "2025-10-30T04:48:35.832704Z"
    },
    "trusted": true
   },
   "outputs": [],
   "source": [
    "X.head()"
   ]
  },
  {
   "cell_type": "code",
   "execution_count": null,
   "metadata": {
    "execution": {
     "iopub.execute_input": "2025-10-30T04:48:35.871129Z",
     "iopub.status.busy": "2025-10-30T04:48:35.870836Z",
     "iopub.status.idle": "2025-10-30T04:48:35.878984Z",
     "shell.execute_reply": "2025-10-30T04:48:35.877912Z",
     "shell.execute_reply.started": "2025-10-30T04:48:35.871111Z"
    },
    "trusted": true
   },
   "outputs": [],
   "source": [
    "y.head()"
   ]
  },
  {
   "cell_type": "markdown",
   "metadata": {},
   "source": [
    "## FFN Model Definition"
   ]
  },
  {
   "cell_type": "code",
   "execution_count": null,
   "metadata": {
    "execution": {
     "iopub.execute_input": "2025-10-30T04:48:35.880215Z",
     "iopub.status.busy": "2025-10-30T04:48:35.879953Z",
     "iopub.status.idle": "2025-10-30T04:48:35.898827Z",
     "shell.execute_reply": "2025-10-30T04:48:35.897149Z",
     "shell.execute_reply.started": "2025-10-30T04:48:35.880199Z"
    },
    "trusted": true
   },
   "outputs": [],
   "source": [
    "\n",
    "# our neural network class is a subclass of nn.Module\n",
    "# this handles a lot of the boilerplate code for us\n",
    "# including parameter initialization, etc.\n",
    "class FFN(nn.Module):\n",
    "\n",
    "    def __init__(self, input_size, hidden_size, output_size):\n",
    "\n",
    "        '''\n",
    "        Args:\n",
    "            input_size: size of the input\n",
    "            hidden_size: size of the hidden layer\n",
    "            output_size: size of the output layer\n",
    "        '''\n",
    "\n",
    "        super().__init__() # call the parent class's constructor\n",
    "\n",
    "        # define layers\n",
    "        # nn.Linear takes in the size of the input and output\n",
    "        self.fc1 = nn.Linear(input_size, hidden_size) # first fully connected layer\n",
    "        self.relu = nn.ReLU() # activation function\n",
    "        self.fc2 = nn.Linear(hidden_size, output_size) # second fully connected layer\n",
    "\n",
    "    def forward(self, x):\n",
    "        # define the forward pass\n",
    "        out = self.fc1(x) # pass through first layer\n",
    "        out = self.relu(out) # apply activation function\n",
    "        out = self.fc2(out) # pass through second layer\n",
    "        return out\n",
    "\n"
   ]
  },
  {
   "cell_type": "markdown",
   "metadata": {},
   "source": [
    "## Dataset Definition"
   ]
  },
  {
   "cell_type": "code",
   "execution_count": null,
   "metadata": {
    "execution": {
     "iopub.execute_input": "2025-10-30T04:48:35.900078Z",
     "iopub.status.busy": "2025-10-30T04:48:35.899794Z",
     "iopub.status.idle": "2025-10-30T04:48:35.924633Z",
     "shell.execute_reply": "2025-10-30T04:48:35.922935Z",
     "shell.execute_reply.started": "2025-10-30T04:48:35.900059Z"
    },
    "trusted": true
   },
   "outputs": [],
   "source": [
    "\n",
    "class SP500Dataset(Dataset):\n",
    "    def __init__(self, data, target_column):\n",
    "        # data is a dataframe\n",
    "        self.dataframe = data\n",
    "        self.target = target_column\n",
    "\n",
    "    def __len__(self):\n",
    "        return len(self.dataframe)\n",
    "\n",
    "    def __getitem__(self, idx):\n",
    "        # return a tuple of (features, target)\n",
    "        return torch.tensor(self.dataframe.iloc[idx].values, dtype=torch.float32), \\\n",
    "            torch.tensor(self.target.iloc[idx], dtype=torch.float32)\n",
    "\n"
   ]
  },
  {
   "cell_type": "markdown",
   "metadata": {},
   "source": [
    "## Training Loop"
   ]
  },
  {
   "cell_type": "code",
   "execution_count": null,
   "metadata": {
    "execution": {
     "iopub.execute_input": "2025-10-30T04:52:27.631553Z",
     "iopub.status.busy": "2025-10-30T04:52:27.631203Z",
     "iopub.status.idle": "2025-10-30T04:52:30.782687Z",
     "shell.execute_reply": "2025-10-30T04:52:30.781657Z",
     "shell.execute_reply.started": "2025-10-30T04:52:27.631538Z"
    },
    "trusted": true
   },
   "outputs": [],
   "source": [
    "\n",
    "df, labels = X, y\n",
    "\n",
    "dataset = SP500Dataset(X, y)\n",
    "\n",
    "# This is an iterable that will yield batches of data\n",
    "dataloader = DataLoader(dataset, batch_size=32, shuffle=True)\n",
    "\n",
    "# Our model, optimizer, and loss function\n",
    "model = FFN(input_size=len(X.columns), hidden_size=5, output_size=1)\n",
    "\n",
    "# Variant of Stochastic Gradient Descent\n",
    "optimizer = optim.SGD(\n",
    "    model.parameters(),\n",
    "    lr=Config.learning_rate,\n",
    "    momentum=Config.momentum\n",
    ")\n",
    "\n",
    "# Mean Squared Error Loss for regression tasks\n",
    "criterion = nn.MSELoss()\n",
    "\n",
    "\n",
    "loss_graph = []\n",
    "for epoch in range(10): # loop over the dataset multiple times\n",
    "    for inputs, targets in dataloader:\n",
    "        optimizer.zero_grad() # zero the parameter gradients\n",
    "\n",
    "        outputs = model(inputs) # forward pass\n",
    "        loss = criterion(outputs.squeeze(), targets) # compute loss\n",
    "        loss.backward() # backward pass\n",
    "        optimizer.step() # update parameters\n",
    "        loss_graph.append(loss.item())\n",
    "\n",
    "    print(f'Epoch {epoch+1}, Loss: {loss.item()}')\n",
    "\n"
   ]
  },
  {
   "cell_type": "code",
   "execution_count": null,
   "metadata": {
    "execution": {
     "iopub.execute_input": "2025-10-30T04:51:32.704715Z",
     "iopub.status.busy": "2025-10-30T04:51:32.704369Z",
     "iopub.status.idle": "2025-10-30T04:51:32.820209Z",
     "shell.execute_reply": "2025-10-30T04:51:32.818709Z",
     "shell.execute_reply.started": "2025-10-30T04:51:32.704698Z"
    },
    "trusted": true
   },
   "outputs": [],
   "source": [
    "plt.plot(loss_graph)\n",
    "plt.show()"
   ]
  },
  {
   "cell_type": "markdown",
   "metadata": {},
   "source": [
    "## Prediction"
   ]
  },
  {
   "cell_type": "code",
   "execution_count": null,
   "metadata": {
    "execution": {
     "iopub.execute_input": "2025-10-30T04:51:34.977823Z",
     "iopub.status.busy": "2025-10-30T04:51:34.977509Z",
     "iopub.status.idle": "2025-10-30T04:51:34.983218Z",
     "shell.execute_reply": "2025-10-30T04:51:34.982402Z",
     "shell.execute_reply.started": "2025-10-30T04:51:34.977804Z"
    },
    "trusted": true
   },
   "outputs": [],
   "source": [
    "def convert_ret_to_signal(\n",
    "    ret_arr: np.ndarray,\n",
    ") -> np.ndarray:\n",
    "    \"\"\"\n",
    "    Converts raw model predictions (expected returns) into a trading signal.\n",
    "\n",
    "    Args:\n",
    "        ret_arr (np.ndarray): The array of predicted returns.\n",
    "        params (RetToSignalParameters): Parameters for scaling and clipping the signal.\n",
    "\n",
    "    Returns:\n",
    "        np.ndarray: The resulting trading signal, clipped between min and max values.\n",
    "    \"\"\"\n",
    "    return np.clip(\n",
    "        ret_arr * Config.signal_multiplier + 1, Config.min_signal, Config.max_signal\n",
    "    )"
   ]
  },
  {
   "cell_type": "code",
   "execution_count": null,
   "metadata": {
    "execution": {
     "iopub.execute_input": "2025-10-30T04:51:37.020324Z",
     "iopub.status.busy": "2025-10-30T04:51:37.020086Z",
     "iopub.status.idle": "2025-10-30T04:51:37.025413Z",
     "shell.execute_reply": "2025-10-30T04:51:37.024756Z",
     "shell.execute_reply.started": "2025-10-30T04:51:37.020310Z"
    },
    "trusted": true
   },
   "outputs": [],
   "source": [
    "def predict(test: pl.DataFrame) -> float:\n",
    "    data = test.to_pandas()\n",
    "    data = torch.tensor(data[test_cols].copy().to_numpy(),dtype=torch.float32)\n",
    "    y_pred = model.forward(data)\n",
    "    pred = float(y_pred.item())\n",
    "    print(pred)\n",
    "    signal = convert_ret_to_signal(pred)\n",
    "    print(signal)\n",
    "    return signal\n",
    "    \n"
   ]
  },
  {
   "cell_type": "code",
   "execution_count": null,
   "metadata": {
    "execution": {
     "iopub.execute_input": "2025-10-30T04:51:39.412208Z",
     "iopub.status.busy": "2025-10-30T04:51:39.411899Z",
     "iopub.status.idle": "2025-10-30T04:51:39.562455Z",
     "shell.execute_reply": "2025-10-30T04:51:39.560615Z",
     "shell.execute_reply.started": "2025-10-30T04:51:39.412164Z"
    },
    "trusted": true
   },
   "outputs": [],
   "source": [
    "# When your notebook is run on the hidden test set, inference_server.serve must be called within 15 minutes of the notebook starting\n",
    "# or the gateway will throw an error. If you need more than 15 minutes to load your model you can do so during the very\n",
    "# first `predict` call, which does not have the usual 1 minute response deadline.\n",
    "inference_server = kaggle_evaluation.default_inference_server.DefaultInferenceServer(predict)\n",
    "\n",
    "if os.getenv('KAGGLE_IS_COMPETITION_RERUN'):\n",
    "    inference_server.serve()\n",
    "else:\n",
    "    inference_server.run_local_gateway(('/kaggle/input/hull-tactical-market-prediction/',))"
   ]
  }
 ],
 "metadata": {
  "kaggle": {
   "accelerator": "none",
   "dataSources": [
    {
     "databundleVersionId": 13750964,
     "sourceId": 111543,
     "sourceType": "competition"
    }
   ],
   "dockerImageVersionId": 31153,
   "isGpuEnabled": false,
   "isInternetEnabled": false,
   "language": "python",
   "sourceType": "notebook"
  },
  "kernelspec": {
   "display_name": "Python 3",
   "language": "python",
   "name": "python3"
  },
  "language_info": {
   "codemirror_mode": {
    "name": "ipython",
    "version": 3
   },
   "file_extension": ".py",
   "mimetype": "text/x-python",
   "name": "python",
   "nbconvert_exporter": "python",
   "pygments_lexer": "ipython3",
   "version": "3.11.13"
  }
 },
 "nbformat": 4,
 "nbformat_minor": 4
}

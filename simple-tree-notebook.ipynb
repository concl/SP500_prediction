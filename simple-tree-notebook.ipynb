{
 "cells": [
  {
   "cell_type": "code",
   "execution_count": 1,
   "id": "cc473d39",
   "metadata": {
    "execution": {
     "iopub.execute_input": "2025-10-22T02:40:25.000947Z",
     "iopub.status.busy": "2025-10-22T02:40:25.000635Z",
     "iopub.status.idle": "2025-10-22T02:40:29.965469Z",
     "shell.execute_reply": "2025-10-22T02:40:29.964574Z"
    },
    "papermill": {
     "duration": 4.971342,
     "end_time": "2025-10-22T02:40:29.967020",
     "exception": false,
     "start_time": "2025-10-22T02:40:24.995678",
     "status": "completed"
    },
    "tags": []
   },
   "outputs": [],
   "source": [
    "import pandas as pd\n",
    "import xgboost as xgb\n",
    "from sklearn.model_selection import train_test_split\n",
    "from sklearn.metrics import mean_squared_error\n",
    "import numpy as np\n",
    "import matplotlib.pyplot as plt\n",
    "import polars as pl\n",
    "import os\n",
    "import kaggle_evaluation.default_inference_server"
   ]
  },
  {
   "cell_type": "code",
   "execution_count": 2,
   "id": "61c9a3e7",
   "metadata": {
    "_cell_guid": "b1076dfc-b9ad-4769-8c92-a6c4dae69d19",
    "_uuid": "8f2839f25d086af736a60e9eeb907d3b93b6e0e5",
    "execution": {
     "iopub.execute_input": "2025-10-22T02:40:29.974449Z",
     "iopub.status.busy": "2025-10-22T02:40:29.973973Z",
     "iopub.status.idle": "2025-10-22T02:40:30.372248Z",
     "shell.execute_reply": "2025-10-22T02:40:30.371016Z"
    },
    "papermill": {
     "duration": 0.403474,
     "end_time": "2025-10-22T02:40:30.373821",
     "exception": false,
     "start_time": "2025-10-22T02:40:29.970347",
     "status": "completed"
    },
    "tags": []
   },
   "outputs": [
    {
     "name": "stdout",
     "output_type": "stream",
     "text": [
      "Number of rows in train: 8990\n",
      "Number of rows in test: 10\n"
     ]
    },
    {
     "name": "stderr",
     "output_type": "stream",
     "text": [
      "/tmp/ipykernel_13/1037938520.py:19: SettingWithCopyWarning: \n",
      "A value is trying to be set on a copy of a slice from a DataFrame.\n",
      "Try using .loc[row_indexer,col_indexer] = value instead\n",
      "\n",
      "See the caveats in the documentation: https://pandas.pydata.org/pandas-docs/stable/user_guide/indexing.html#returning-a-view-versus-a-copy\n",
      "  train_filtered[\"target_market_norm\"] = (\n",
      "/tmp/ipykernel_13/1037938520.py:22: FutureWarning: A value is trying to be set on a copy of a DataFrame or Series through chained assignment using an inplace method.\n",
      "The behavior will change in pandas 3.0. This inplace method will never work because the intermediate object on which we are setting values always behaves as a copy.\n",
      "\n",
      "For example, when doing 'df[col].method(value, inplace=True)', try using 'df.method({col: value}, inplace=True)' or df[col] = df[col].method(value) instead, to perform the operation inplace on the original object.\n",
      "\n",
      "\n",
      "  train_filtered[\"target_market_norm\"].bfill(inplace=True)\n",
      "/tmp/ipykernel_13/1037938520.py:22: SettingWithCopyWarning: \n",
      "A value is trying to be set on a copy of a slice from a DataFrame\n",
      "\n",
      "See the caveats in the documentation: https://pandas.pydata.org/pandas-docs/stable/user_guide/indexing.html#returning-a-view-versus-a-copy\n",
      "  train_filtered[\"target_market_norm\"].bfill(inplace=True)\n"
     ]
    }
   ],
   "source": [
    "# Load data\n",
    "train = pd.read_csv(\"/kaggle/input/hull-tactical-market-prediction/train.csv\")\n",
    "test = pd.read_csv(\"/kaggle/input/hull-tactical-market-prediction/test.csv\")\n",
    "\n",
    "# Columns to keep\n",
    "test_cols = [\"M1\", \"E1\", \"I1\", \"P1\", \"V1\", \"S1\", \"D1\"]\n",
    "train_cols = [\"forward_returns\", \"risk_free_rate\", \"market_forward_excess_returns\"]\n",
    "base_col = [\"date_id\"]\n",
    "\n",
    "# Apply filtering\n",
    "train_filtered = train[base_col + test_cols + train_cols]\n",
    "test_filtered = test[base_col + test_cols]\n",
    "\n",
    "window = 50 # number of days in each normalization window\n",
    "\n",
    "rolling_min = train_filtered[\"market_forward_excess_returns\"].rolling(window).min()\n",
    "rolling_max = train_filtered[\"market_forward_excess_returns\"].rolling(window).max()\n",
    "\n",
    "train_filtered[\"target_market_norm\"] = (\n",
    "    (train_filtered[\"forward_returns\"] - rolling_min) / (rolling_max - rolling_min)\n",
    ")\n",
    "train_filtered[\"target_market_norm\"].bfill(inplace=True)\n",
    "\n",
    "# remove duplicate colums\n",
    "train_filtered = train_filtered.loc[:, ~train_filtered.columns.duplicated()]\n",
    "test_filtered = test_filtered.loc[:, ~test_filtered.columns.duplicated()]\n",
    "\n",
    "print(f\"Number of rows in train: {len(train_filtered)}\")\n",
    "print(f\"Number of rows in test: {len(test_filtered)}\")"
   ]
  },
  {
   "cell_type": "code",
   "execution_count": 3,
   "id": "bb8533b5",
   "metadata": {
    "execution": {
     "iopub.execute_input": "2025-10-22T02:40:30.382300Z",
     "iopub.status.busy": "2025-10-22T02:40:30.381455Z",
     "iopub.status.idle": "2025-10-22T02:40:30.388590Z",
     "shell.execute_reply": "2025-10-22T02:40:30.387480Z"
    },
    "papermill": {
     "duration": 0.012883,
     "end_time": "2025-10-22T02:40:30.390051",
     "exception": false,
     "start_time": "2025-10-22T02:40:30.377168",
     "status": "completed"
    },
    "tags": []
   },
   "outputs": [
    {
     "name": "stdout",
     "output_type": "stream",
     "text": [
      "Number of rows with NaN in train: 5547\n",
      "Number of rows with NaN in test: 0\n"
     ]
    }
   ],
   "source": [
    "# Count number of rows with at least one NaN\n",
    "num_nan_train = train_filtered.isna().any(axis=1).sum()\n",
    "num_nan_test = test_filtered.isna().any(axis=1).sum()\n",
    "\n",
    "print(f\"Number of rows with NaN in train: {num_nan_train}\")\n",
    "print(f\"Number of rows with NaN in test: {num_nan_test}\")"
   ]
  },
  {
   "cell_type": "code",
   "execution_count": 4,
   "id": "627dc0c5",
   "metadata": {
    "execution": {
     "iopub.execute_input": "2025-10-22T02:40:30.397765Z",
     "iopub.status.busy": "2025-10-22T02:40:30.396994Z",
     "iopub.status.idle": "2025-10-22T02:40:30.404038Z",
     "shell.execute_reply": "2025-10-22T02:40:30.403192Z"
    },
    "papermill": {
     "duration": 0.012335,
     "end_time": "2025-10-22T02:40:30.405470",
     "exception": false,
     "start_time": "2025-10-22T02:40:30.393135",
     "status": "completed"
    },
    "tags": []
   },
   "outputs": [],
   "source": [
    "X = train_filtered[test_cols]  # features\n",
    "y = train_filtered[\"target_market_norm\"]  # target\n",
    "\n",
    "# Optional: remove rows where target is NaN\n",
    "mask = y.notna()\n",
    "X = X[mask]\n",
    "y = y[mask]\n",
    "# X_train, X_val, y_train, y_val = train_test_split(X, y, test_size=0.2, shuffle=False)  # preserve time order\n",
    "# xg_reg = xgb.XGBRegressor(\n",
    "#     n_estimators=100,\n",
    "#     max_depth=5,\n",
    "#     learning_rate=0.1,\n",
    "#     subsample=0.8,\n",
    "#     colsample_bytree=0.8,\n",
    "#     missing=np.nan,\n",
    "#     random_state=42\n",
    "# )\n",
    "\n",
    "# xg_reg.fit(X_train, y_train)\n"
   ]
  },
  {
   "cell_type": "code",
   "execution_count": 5,
   "id": "8b654fe3",
   "metadata": {
    "execution": {
     "iopub.execute_input": "2025-10-22T02:40:30.412429Z",
     "iopub.status.busy": "2025-10-22T02:40:30.412079Z",
     "iopub.status.idle": "2025-10-22T02:40:30.416994Z",
     "shell.execute_reply": "2025-10-22T02:40:30.416181Z"
    },
    "papermill": {
     "duration": 0.009978,
     "end_time": "2025-10-22T02:40:30.418462",
     "exception": false,
     "start_time": "2025-10-22T02:40:30.408484",
     "status": "completed"
    },
    "tags": []
   },
   "outputs": [],
   "source": [
    "def competition_metric(y_true, y_pred, market_forward_excess_returns):\n",
    "    \"\"\"\n",
    "    Custom Hull Tactical evaluation metric:\n",
    "    Measures risk-adjusted performance relative to the market.\n",
    "    \"\"\"\n",
    "    # Strategy excess return relative to market\n",
    "    strategy_excess = y_pred - market_forward_excess_returns\n",
    "\n",
    "    # Penalized Sharpe-like ratio\n",
    "    numerator = np.mean(strategy_excess)\n",
    "    denominator = np.std(strategy_excess)\n",
    "\n",
    "    # To avoid division by zero\n",
    "    if denominator == 0:\n",
    "        return 0.0\n",
    "\n",
    "    return numerator / denominator"
   ]
  },
  {
   "cell_type": "code",
   "execution_count": 6,
   "id": "81c7e713",
   "metadata": {
    "execution": {
     "iopub.execute_input": "2025-10-22T02:40:30.425354Z",
     "iopub.status.busy": "2025-10-22T02:40:30.424859Z",
     "iopub.status.idle": "2025-10-22T02:40:30.428538Z",
     "shell.execute_reply": "2025-10-22T02:40:30.427686Z"
    },
    "papermill": {
     "duration": 0.00842,
     "end_time": "2025-10-22T02:40:30.429863",
     "exception": false,
     "start_time": "2025-10-22T02:40:30.421443",
     "status": "completed"
    },
    "tags": []
   },
   "outputs": [],
   "source": [
    "# y_pred = xg_reg.predict(X_val)\n",
    "# market_excess = train_filtered.loc[y_val.index, \"market_forward_excess_returns\"]\n",
    "# score = competition_metric(y_val.values, y_pred, market_excess.values)\n",
    "# print(f\"Sharpe ratio: {score:.6f}\")"
   ]
  },
  {
   "cell_type": "code",
   "execution_count": 7,
   "id": "6ce392b9",
   "metadata": {
    "execution": {
     "iopub.execute_input": "2025-10-22T02:40:30.436590Z",
     "iopub.status.busy": "2025-10-22T02:40:30.436327Z",
     "iopub.status.idle": "2025-10-22T02:40:31.016480Z",
     "shell.execute_reply": "2025-10-22T02:40:31.015624Z"
    },
    "papermill": {
     "duration": 0.585178,
     "end_time": "2025-10-22T02:40:31.017951",
     "exception": false,
     "start_time": "2025-10-22T02:40:30.432773",
     "status": "completed"
    },
    "tags": []
   },
   "outputs": [
    {
     "name": "stdout",
     "output_type": "stream",
     "text": [
      "Starting 5-fold time-series cross-validation...\n",
      "--- Fold 1/5 ---\n",
      "Train size: 1500, Validation size: 1498\n",
      "Fold 1 Sharpe ratio: 6.289601\n",
      "--- Fold 2/5 ---\n",
      "Train size: 2998, Validation size: 1498\n",
      "Fold 2 Sharpe ratio: 6.067965\n",
      "--- Fold 3/5 ---\n",
      "Train size: 4496, Validation size: 1498\n",
      "Fold 3 Sharpe ratio: 5.597914\n",
      "--- Fold 4/5 ---\n",
      "Train size: 5994, Validation size: 1498\n",
      "Fold 4 Sharpe ratio: 4.826349\n",
      "--- Fold 5/5 ---\n",
      "Train size: 7492, Validation size: 1498\n",
      "Fold 5 Sharpe ratio: 6.451610\n",
      "\n",
      "--- CV Results ---\n",
      "Scores per fold: [6.289601, 6.067965, 5.597914, 4.826349, 6.45161]\n",
      "Mean Sharpe ratio: 5.846688\n",
      "Std Dev of Sharpe ratio: 0.585499\n"
     ]
    }
   ],
   "source": [
    "from sklearn.model_selection import TimeSeriesSplit\n",
    "\n",
    "# --- 1. Prepare Data ---\n",
    "# We need X, y, and the market returns aligned *before* splitting\n",
    "X = train_filtered[test_cols]\n",
    "y = train_filtered[\"target_market_norm\"]\n",
    "market_returns = train_filtered[\"market_forward_excess_returns\"]\n",
    "\n",
    "# Remove rows where the target (y) is NaN, and apply the same mask to X and market_returns\n",
    "mask = y.notna()\n",
    "X = X[mask]\n",
    "y = y[mask]\n",
    "market_returns = market_returns[mask]\n",
    "\n",
    "# --- 2. Define Cross-Validation Strategy ---\n",
    "N_SPLITS = 5\n",
    "tscv = TimeSeriesSplit(n_splits=N_SPLITS)\n",
    "\n",
    "# Store scores from each fold\n",
    "scores = []\n",
    "\n",
    "print(\"Starting 5-fold time-series cross-validation...\")\n",
    "\n",
    "# --- 3. Run the CV Loop ---\n",
    "# We run the loop manually because our custom metric needs an extra argument (market_returns)\n",
    "for fold, (train_index, val_index) in enumerate(tscv.split(X)):\n",
    "    print(f\"--- Fold {fold+1}/{N_SPLITS} ---\")\n",
    "    \n",
    "    # Get the data for this fold\n",
    "    X_train, X_val = X.iloc[train_index], X.iloc[val_index]\n",
    "    y_train, y_val = y.iloc[train_index], y.iloc[val_index]\n",
    "    market_val = market_returns.iloc[val_index] # Get market returns for the validation set\n",
    "    \n",
    "    print(f\"Train size: {len(X_train)}, Validation size: {len(X_val)}\")\n",
    "\n",
    "    # Define the model *inside* the loop to ensure it's retrained from scratch\n",
    "    xg_reg = xgb.XGBRegressor(\n",
    "        n_estimators=100,\n",
    "        max_depth=5,\n",
    "        learning_rate=0.1,\n",
    "        subsample=0.8,\n",
    "        colsample_bytree=0.8,\n",
    "        missing=np.nan,\n",
    "        random_state=42\n",
    "    )\n",
    "    \n",
    "    # Train the model\n",
    "    xg_reg.fit(X_train, y_train)\n",
    "    \n",
    "    # Make predictions\n",
    "    y_pred = xg_reg.predict(X_val)\n",
    "    \n",
    "    # Evaluate using the competition metric\n",
    "    score = competition_metric(y_val.values, y_pred, market_val.values)\n",
    "    scores.append(score)\n",
    "    print(f\"Fold {fold+1} Sharpe ratio: {score:.6f}\")\n",
    "\n",
    "# --- 4. Report Final Results ---\n",
    "print(\"\\n--- CV Results ---\")\n",
    "print(f\"Scores per fold: {[round(s, 6) for s in scores]}\")\n",
    "print(f\"Mean Sharpe ratio: {np.mean(scores):.6f}\")\n",
    "print(f\"Std Dev of Sharpe ratio: {np.std(scores):.6f}\")"
   ]
  },
  {
   "cell_type": "code",
   "execution_count": 8,
   "id": "9884ca10",
   "metadata": {
    "execution": {
     "iopub.execute_input": "2025-10-22T02:40:31.026959Z",
     "iopub.status.busy": "2025-10-22T02:40:31.026659Z",
     "iopub.status.idle": "2025-10-22T02:40:31.167715Z",
     "shell.execute_reply": "2025-10-22T02:40:31.166844Z"
    },
    "papermill": {
     "duration": 0.147078,
     "end_time": "2025-10-22T02:40:31.169003",
     "exception": false,
     "start_time": "2025-10-22T02:40:31.021925",
     "status": "completed"
    },
    "tags": []
   },
   "outputs": [
    {
     "name": "stdout",
     "output_type": "stream",
     "text": [
      "\n",
      "Training final model on all data...\n",
      "Final model trained.\n",
      "Generated 10 predictions for the test set.\n"
     ]
    }
   ],
   "source": [
    "print(\"\\nTraining final model on all data...\")\n",
    "\n",
    "# Use the full X and y (with NaNs removed)\n",
    "final_model = xgb.XGBRegressor(\n",
    "    n_estimators=100,\n",
    "    max_depth=5,\n",
    "    learning_rate=0.1,\n",
    "    subsample=0.8,\n",
    "    colsample_bytree=0.8,\n",
    "    missing=np.nan,\n",
    "    random_state=42\n",
    ")\n",
    "\n",
    "final_model.fit(X, y)\n",
    "\n",
    "print(\"Final model trained.\")\n",
    "\n",
    "# --- Make predictions on the test set ---\n",
    "# The test_filtered DataFrame was loaded in your second cell\n",
    "X_test = test_filtered[test_cols]\n",
    "test_predictions = final_model.predict(X_test)\n",
    "\n",
    "print(f\"Generated {len(test_predictions)} predictions for the test set.\")\n",
    "\n",
    "# (You would then format 'test_predictions' for submission)"
   ]
  },
  {
   "cell_type": "code",
   "execution_count": 9,
   "id": "fc0f5f15",
   "metadata": {
    "execution": {
     "iopub.execute_input": "2025-10-22T02:40:31.184268Z",
     "iopub.status.busy": "2025-10-22T02:40:31.183688Z",
     "iopub.status.idle": "2025-10-22T02:40:31.519226Z",
     "shell.execute_reply": "2025-10-22T02:40:31.518369Z"
    },
    "papermill": {
     "duration": 0.343238,
     "end_time": "2025-10-22T02:40:31.520853",
     "exception": false,
     "start_time": "2025-10-22T02:40:31.177615",
     "status": "completed"
    },
    "tags": []
   },
   "outputs": [
    {
     "data": {
      "image/png": "[encoded data removed]",
      "text/plain": [
       "<Figure size 640x480 with 1 Axes>"
      ]
     },
     "metadata": {},
     "output_type": "display_data"
    }
   ],
   "source": [
    "# xgb.plot_importance(xg_reg, max_num_features=10)\n",
    "# plt.show()\n",
    "xgb.plot_importance(final_model, max_num_features=10) \n",
    "plt.savefig(\"feature_importance.png\")"
   ]
  },
  {
   "cell_type": "code",
   "execution_count": 10,
   "id": "0eb55140",
   "metadata": {
    "execution": {
     "iopub.execute_input": "2025-10-22T02:40:31.529273Z",
     "iopub.status.busy": "2025-10-22T02:40:31.528934Z",
     "iopub.status.idle": "2025-10-22T02:40:31.534074Z",
     "shell.execute_reply": "2025-10-22T02:40:31.533188Z"
    },
    "papermill": {
     "duration": 0.01103,
     "end_time": "2025-10-22T02:40:31.535551",
     "exception": false,
     "start_time": "2025-10-22T02:40:31.524521",
     "status": "completed"
    },
    "tags": []
   },
   "outputs": [],
   "source": [
    "def predict(test: pl.DataFrame) -> float:\n",
    "    data = test.to_pandas()\n",
    "    data = data[test_cols].copy()\n",
    "    y_pred = xg_reg.predict(data)\n",
    "    pred = np.clip(y_pred, 0.0, 2.0)[0]\n",
    "    print(f\"pred: {pred}\")\n",
    "    return float(pred)"
   ]
  },
  {
   "cell_type": "code",
   "execution_count": 11,
   "id": "ffe948f4",
   "metadata": {
    "execution": {
     "iopub.execute_input": "2025-10-22T02:40:31.545002Z",
     "iopub.status.busy": "2025-10-22T02:40:31.544706Z",
     "iopub.status.idle": "2025-10-22T02:40:32.095583Z",
     "shell.execute_reply": "2025-10-22T02:40:32.094599Z"
    },
    "papermill": {
     "duration": 0.557534,
     "end_time": "2025-10-22T02:40:32.096987",
     "exception": false,
     "start_time": "2025-10-22T02:40:31.539453",
     "status": "completed"
    },
    "tags": []
   },
   "outputs": [
    {
     "name": "stdout",
     "output_type": "stream",
     "text": [
      "pred: 0.504436731338501\n",
      "pred: 0.48078247904777527\n",
      "pred: 0.5200136303901672\n",
      "pred: 0.47660964727401733\n",
      "pred: 0.4776775538921356\n",
      "pred: 0.5044361352920532\n",
      "pred: 0.4884227514266968\n",
      "pred: 0.4561435282230377\n",
      "pred: 0.4793638586997986\n",
      "pred: 0.5095714330673218\n"
     ]
    }
   ],
   "source": [
    "# When your notebook is run on the hidden test set, inference_server.serve must be called within 15 minutes of the notebook starting\n",
    "# or the gateway will throw an error. If you need more than 15 minutes to load your model you can do so during the very\n",
    "# first `predict` call, which does not have the usual 1 minute response deadline.\n",
    "inference_server = kaggle_evaluation.default_inference_server.DefaultInferenceServer(predict)\n",
    "\n",
    "if os.getenv('KAGGLE_IS_COMPETITION_RERUN'):\n",
    "    inference_server.serve()\n",
    "else:\n",
    "    inference_server.run_local_gateway(('/kaggle/input/hull-tactical-market-prediction/',))\n"
   ]
  },
  {
   "cell_type": "code",
   "execution_count": null,
   "id": "726713b1",
   "metadata": {
    "papermill": {
     "duration": 0.003488,
     "end_time": "2025-10-22T02:40:32.104501",
     "exception": false,
     "start_time": "2025-10-22T02:40:32.101013",
     "status": "completed"
    },
    "tags": []
   },
   "outputs": [],
   "source": []
  }
 ],
 "metadata": {
  "kaggle": {
   "accelerator": "none",
   "dataSources": [
    {
     "databundleVersionId": 13750964,
     "sourceId": 111543,
     "sourceType": "competition"
    }
   ],
   "dockerImageVersionId": 31153,
   "isGpuEnabled": false,
   "isInternetEnabled": true,
   "language": "python",
   "sourceType": "notebook"
  },
  "kernelspec": {
   "display_name": "Python 3",
   "language": "python",
   "name": "python3"
  },
  "language_info": {
   "codemirror_mode": {
    "name": "ipython",
    "version": 3
   },
   "file_extension": ".py",
   "mimetype": "text/x-python",
   "name": "python",
   "nbconvert_exporter": "python",
   "pygments_lexer": "ipython3",
   "version": "3.11.13"
  },
  "papermill": {
   "default_parameters": {},
   "duration": 12.742162,
   "end_time": "2025-10-22T02:40:32.827769",
   "environment_variables": {},
   "exception": null,
   "input_path": "__notebook__.ipynb",
   "output_path": "__notebook__.ipynb",
   "parameters": {},
   "start_time": "2025-10-22T02:40:20.085607",
   "version": "2.6.0"
  }
 },
 "nbformat": 4,
 "nbformat_minor": 5
}
